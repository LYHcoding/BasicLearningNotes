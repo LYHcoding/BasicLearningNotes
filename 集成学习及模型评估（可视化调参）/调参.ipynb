{
 "cells": [
  {
   "cell_type": "markdown",
   "id": "2a0f1ba8",
   "metadata": {},
   "source": [
    "## 网格搜索\n",
    "\n",
    "**一个分类问题的网格搜索代码模板，供参考：**"
   ]
  },
  {
   "cell_type": "code",
   "execution_count": null,
   "id": "90fb5330",
   "metadata": {},
   "outputs": [],
   "source": [
    "from sklearn.model_selection import RepeatedStratifiedKFold\n",
    "from sklearn.model_selection import GridSearchCV\n",
    "# 定义折数、评价指标等\n",
    "def classify_gridsearch_cv(model,\n",
    "                           X,\n",
    "                           y,\n",
    "                           grid,\n",
    "                           folds=10,\n",
    "                           n_repeats=3,\n",
    "                           scoring='accuracy',\n",
    "                           seed=42):\n",
    "    # 分类问题使用分层采样\n",
    "    cv = RepeatedStratifiedKFold(n_splits=folds,\n",
    "                                 n_repeats=n_repeats,\n",
    "                                 random_state=seed)\n",
    "    gs = GridSearchCV(estimator=model,\n",
    "                      param_grid=grid,\n",
    "                      n_jobs=-1,\n",
    "                      cv=cv,\n",
    "                      scoring=scoring,\n",
    "                      error_score=0)\n",
    "    gs = gs.fit(X, y)\n",
    "\n",
    "    # 最好的模型效果\n",
    "    print(\"Best: {:.3f} : {}\\n\".format(gs.best_score_, gs.best_params_))\n",
    "    \n",
    "    # 模型性能统计指标\n",
    "    means = gs.cv_results_['mean_test_score']\n",
    "    stds = gs.cv_results_['std_test_score']\n",
    "    params = gs.cv_results_['params']\n",
    "\n",
    "    for mean, stdev, param in zip(means, stds, params):\n",
    "        print(\"{:.3f} [{:.3f}] : {}\".format(mean, stdev, param))\n",
    "        \n",
    "    # 返回最好的模型\n",
    "    return gs.best_estimator_\n"
   ]
  },
  {
   "cell_type": "markdown",
   "id": "37ffad75",
   "metadata": {},
   "source": [
    "其中引用库内容学习：\n",
    "\n",
    "https://scikit-learn.org/stable/modules/classes.html#module-sklearn.model_selection"
   ]
  },
  {
   "cell_type": "code",
   "execution_count": null,
   "id": "3df9d504",
   "metadata": {},
   "outputs": [],
   "source": [
    "import numpy as np\n",
    "from sklearn.model_selection import RepeatedKFold\n",
    "X = np.array([[1, 2], [3, 4], [1, 2], [3, 4]])\n",
    "y = np.array([0, 0, 1, 1])\n",
    "rkf = RepeatedKFold(n_splits=2, n_repeats=2, random_state=2652124)\n",
    "for train_index, test_index in rkf.split(X):\n",
    "    print(\"TRAIN:\", train_index, \"TEST:\", test_index)\n",
    "    X_train, X_test = X[train_index], X[test_index]\n",
    "    y_train, y_test = y[train_index], y[test_index]"
   ]
  },
  {
   "cell_type": "code",
   "execution_count": null,
   "id": "08dc7d83",
   "metadata": {},
   "outputs": [],
   "source": [
    "from sklearn.ensemble import RandomForestRegressor\n",
    "from sklearn.datasets import make_regression\n",
    "X, y = make_regression(n_features=4, n_informative=2,random_state=0, shuffle=False)\n",
    "regr = RandomForestRegressor(max_depth=2, random_state=0)\n",
    "regr.fit(X, y)\n",
    "# RandomForestRegressor(...)\n",
    "print(regr.predict([[0, 0, 0, 0]]))"
   ]
  },
  {
   "cell_type": "markdown",
   "id": "a7722c6f",
   "metadata": {},
   "source": [
    "**网络/随机搜索**"
   ]
  },
  {
   "cell_type": "code",
   "execution_count": null,
   "id": "6f8f6194",
   "metadata": {},
   "outputs": [],
   "source": [
    "import numpy as np\n",
    "from sklearn.model_selection import GridSearchCV\n",
    "from sklearn.model_selection import RandomizedSearchCV\n",
    "from sklearn.ensemble import RandomForestClassifier\n",
    "\n",
    "# 选择模型 \n",
    "model = RandomForestClassifier()\n",
    "# 参数搜索空间\n",
    "param_grid = {\n",
    "    'max_depth': np.arange(1, 20, 1),\n",
    "    'n_estimators': np.arange(1, 50, 10),\n",
    "    'max_leaf_nodes': np.arange(2, 100, 10)\n",
    "\n",
    "}\n",
    "# 网格搜索模型参数\n",
    "grid_search = GridSearchCV(model, param_grid, cv=5, scoring='f1_micro')\n",
    "grid_search.fit(x, y)\n",
    "print(grid_search.best_params_)\n",
    "print(grid_search.best_score_)\n",
    "print(grid_search.best_estimator_)\n",
    "# 随机搜索模型参数\n",
    "rd_search = RandomizedSearchCV(model, param_grid, n_iter=200, cv=5, scoring='f1_micro')\n",
    "rd_search.fit(x, y)\n",
    "print(rd_search.best_params_)\n",
    "print(rd_search.best_score_)\n",
    "print(rd_search.best_estimator_)"
   ]
  },
  {
   "cell_type": "markdown",
   "id": "d0145c51",
   "metadata": {},
   "source": [
    "## XGBoost自动调参工具-使用示例\n",
    "\n",
    "https://zhuanlan.zhihu.com/p/361724195"
   ]
  },
  {
   "cell_type": "markdown",
   "id": "0bbc053d",
   "metadata": {},
   "source": [
    "乳腺癌数据集--经典的二分类数据集\n",
    "\n",
    "569个样本，每个样本30个特征(10个平均值，10个标准差，10个最值)，阳性样本357，阴性样本212"
   ]
  },
  {
   "cell_type": "code",
   "execution_count": null,
   "id": "5b451722",
   "metadata": {},
   "outputs": [],
   "source": [
    "%pip install xgboost"
   ]
  },
  {
   "cell_type": "code",
   "execution_count": null,
   "id": "49c6ebe8",
   "metadata": {},
   "outputs": [],
   "source": [
    "%pip install xgbtune"
   ]
  },
  {
   "cell_type": "code",
   "execution_count": null,
   "id": "9f6b837e",
   "metadata": {},
   "outputs": [],
   "source": [
    "from sklearn.datasets import load_breast_cancer\n",
    "from sklearn.model_selection import train_test_split\n",
    "\n",
    "from xgboost import TuneXGB\n",
    "\n",
    "\n",
    "# 准备数据--乳腺癌数据集\n",
    "X, y = load_breast_cancer(return_X_y=True)\n",
    "X_train, X_test, y_train, y_test = train_test_split(X, y, test_size=0.3, random_state=42)\n",
    "\n",
    "\n",
    "# 调参工具类初始化\n",
    "tb = TuneXGB(X_train,y_train)\n",
    "# tb = xgb.TuneXGB(X_train,y_train)\n",
    "\n",
    "\n",
    "# 查看缺省调参顺序\n",
    "tb.show_default_order()\n",
    "\n",
    "\n",
    "# 查看缺省参数\n",
    "tb.show_default_para()\n",
    "\n",
    "\n",
    "# 调参过程中随时更新参数\n",
    "tb.update_cur_params({'n_estimators':180})\n",
    "\n",
    "\n",
    "# 自定义调参\n",
    "tb.tune_step({'n_estimators': range(30, 100, 10)},verbose=3)\n",
    "\n",
    "\n",
    "# 增量调参\n",
    "tb.tune_sequence()\n",
    "\n",
    "\n",
    "# 获取当前学习器\n",
    "tb.get_cur_estimator()\n",
    "\n",
    "\n",
    "# 查看历史参数和学习器\n",
    "tb.history_paras\n",
    "tb.history_estimator\n",
    "\n",
    "\n",
    "# 进行网格搜索\n",
    "tb_gs = tb.grid_search({'reg_lambda': [0.01, 0.1, 1.0, 10, 100, 200, 1000]})\n",
    "\n",
    "\n",
    "# 进行随机搜索\n",
    "tb_rs = tb.random_search({'colsample_bytree_loc':0.3})\n"
   ]
  },
  {
   "cell_type": "code",
   "execution_count": null,
   "id": "66d283b8",
   "metadata": {},
   "outputs": [],
   "source": [
    "# 核心数据结构和方法\n",
    "# 全局初始值重要参数\n",
    "   cur_params = {\n",
    "       'colsample_bytree': 1,\n",
    "       'gamma': 0,\n",
    "       'learning_rate': 0.1,\n",
    "       'max_depth': 3,\n",
    "       'min_child_weight': 1,\n",
    "       'n_estimators': 100,\n",
    "       'reg_alpha': 0,\n",
    "       'reg_lambda': 1,\n",
    "       'scale_pos_weight': 1,\n",
    "       'subsample': 1\n",
    "   }\n",
    "\n",
    "   \n",
    "   # 1.缺省的调优顺序流程\n",
    "   param_grids_list = [\n",
    "       # 树结构是重点\n",
    "       # 集成结构--解决偏差\n",
    "       {\n",
    "           'n_estimators': range(100, 1000, 50)\n",
    "       },\n",
    "       {\n",
    "           'learning_rate': [0.01, 0.015, 0.025, 0.05, 0.1]\n",
    "       },\n",
    "       # 树结构参数--解决偏差\n",
    "       {\n",
    "           'max_depth': [3, 5, 7, 9, 12, 15, 17, 25]\n",
    "       },\n",
    "       {\n",
    "           'min_child_weight': [1, 3, 5, 7]\n",
    "       },\n",
    "       # 树结构(叶子结点)\n",
    "       {\n",
    "           'gamma': [0, 0.05, 0.1, 0.3, 0.5, 0.7, 0.9, 1.0]\n",
    "       },\n",
    "       # 样本参数--解决方差\n",
    "       {\n",
    "           'subsample': [0.5, 0.6, 0.7, 0.8, 0.9, 1.0]\n",
    "       },\n",
    "       {\n",
    "           'colsample_bytree': [0.4, 0.6, 0.7, 0.8, 0.9, 1.0]\n",
    "       },\n",
    "       # 正则参数--解决方差\n",
    "       {\n",
    "           'reg_alpha': [0, 0.1, 0.5, 1.0, 10, 100, 200, 1000]\n",
    "       },\n",
    "       {\n",
    "           'reg_lambda': [0.01, 0.1, 1.0, 10, 100, 200, 1000]\n",
    "       }\n",
    "   ]\n"
   ]
  },
  {
   "cell_type": "markdown",
   "id": "fd4bd03a",
   "metadata": {},
   "source": [
    "1、K折设计：二分类或多分类使用StratifiedKFold；计数类或回归类使用KFold\n",
    "\n",
    "2、网格搜索：此处统一使用GridSearchCV，也可以使用xgb.cv\n",
    "\n",
    "3、随机搜索：RandomizedSearchCV；要控制好随机参数的取值范围：根据超参类型进行设定。如\n",
    "\n",
    "``` python\n",
    "param_distributions = {\n",
    "            # np.random.uniform(low=0, high=1) 该函数会更安全:限制在0-1范围\n",
    "            'colsample_bytree':\n",
    "            uniform(params.get('colsample_bytree_loc', 0.2),\n",
    "                    params.get('colsample_bytree_scale', 0.5)),\n",
    "            \n",
    "     'max_depth':\n",
    "            sp_randint(params.get('max_depth_low', 2),\n",
    "                       params.get('max_depth_high', 11)),\n",
    "```\n",
    "\n",
    "4、独立、增量式的搜索，相比全量参数的网格搜索效率会高点，但是最终效果会打折扣,逻辑为顺序调优。主要逻辑如下：\n",
    "``` python\n",
    "for pp in TuneXGB.param_grids_list:\n",
    "            self.tune_step(pp)\n",
    "            \n",
    "def tune_step()\n",
    "    grid_search\n",
    "```"
   ]
  },
  {
   "cell_type": "markdown",
   "id": "63f609e2",
   "metadata": {},
   "source": [
    "## BayesianOptimization优化实例\n",
    "\n",
    "https://zhuanlan.zhihu.com/p/361727389\n",
    "\n",
    "开源包BayesianOptimization借用了sklearn.gaussian_process实现了基于高斯过程的贝叶斯优化。\n",
    "\n",
    "- 使用前安装：pip install bayesian-optimization\n",
    "\n",
    "- GitHub地址: https://github.com/fmfn/BayesianOptimization。"
   ]
  },
  {
   "cell_type": "code",
   "execution_count": null,
   "id": "9d96e8bc",
   "metadata": {},
   "outputs": [],
   "source": [
    "from sklearn.datasets import make_classification\n",
    "from sklearn.model_selection import cross_val_score\n",
    "from sklearn.ensemble import RandomForestClassifier as RFC\n",
    "from bayes_opt import BayesianOptimization\n",
    "\n",
    "\n",
    "# 定义优化目标\n",
    "def rfc_cv_object(n_estimators, min_samples_split, max_features, data,\n",
    "                  targets):\n",
    "    \"\"\"随机森林交叉验证\n",
    "\n",
    "    关注的超参空间：\n",
    "        n_estimators, min_samples_split, and max_features\n",
    "    目标：\n",
    "        最大化指标roc_auc，交叉验证的平均作为最终的模型效果\n",
    "    \"\"\"\n",
    "    estimator = RFC(n_estimators=n_estimators,\n",
    "                    min_samples_split=min_samples_split,\n",
    "                    max_features=max_features,\n",
    "                    random_state=42)\n",
    "    cval = cross_val_score(estimator, data, targets, scoring='roc_auc', cv=4)\n",
    "    return cval.mean()\n",
    "\n",
    "\n",
    "# 定义超参空间和优化器\n",
    "def optimize_rfc(data, targets):\n",
    "    def rfc_crossval(n_estimators, min_samples_split, max_features):\n",
    "        \"\"\"rfc_cv的二次封装，保证：\n",
    "            1.n_estimators和min_samples_split为整数\n",
    "            2.避免max_features在(0, 1)范围之外\n",
    "        \"\"\"\n",
    "        return rfc_cv_object(\n",
    "            n_estimators=int(n_estimators),\n",
    "            min_samples_split=int(min_samples_split),\n",
    "            max_features=max(min(max_features, 0.999), 1e-3),\n",
    "            data=data,\n",
    "            targets=targets,\n",
    "        )\n",
    "\n",
    "    optimizer = BayesianOptimization(\n",
    "        f=rfc_crossval,\n",
    "        # 超参空间\n",
    "        pbounds={\n",
    "            \"n_estimators\": (10, 250),\n",
    "            \"min_samples_split\": (2, 25),\n",
    "            \"max_features\": (0.1, 0.999),\n",
    "        },\n",
    "        random_state=42,\n",
    "        verbose=2)\n",
    "    # 2个初始化点和10轮优化，共12轮\n",
    "    optimizer.maximize(init_points=2, n_iter=10)\n",
    "\n",
    "    print(\"Final result:\", optimizer.max)\n",
    "    return optimizer\n",
    "\n",
    "\n",
    "# 调用优化：使用数据\n",
    "ret = optimize_rfc(X_train, y_train)"
   ]
  },
  {
   "cell_type": "code",
   "execution_count": null,
   "id": "f29f7163",
   "metadata": {},
   "outputs": [],
   "source": [
    "\"\"\"\n",
    "随机森林分类Iris使用贝叶斯优化调参\n",
    "\"\"\"\n",
    "import numpy as np\n",
    "from hyperopt import hp, tpe, Trials, STATUS_OK, Trials, anneal\n",
    "from functools import partial\n",
    "from hyperopt.fmin import fmin\n",
    "from sklearn.metrics import f1_score\n",
    "from sklearn.ensemble import RandomForestClassifier\n",
    "\n",
    "def model_metrics(model, x, y):\n",
    "    \"\"\" 评估指标 \"\"\"\n",
    "    yhat = model.predict(x)\n",
    "    return  f1_score(y, yhat,average='micro')\n",
    "\n",
    "def bayes_fmin(train_x, test_x, train_y, test_y, eval_iters=50):\n",
    "    \"\"\"\n",
    "    bayes优化超参数\n",
    "    eval_iters：迭代次数\n",
    "    \"\"\"\n",
    "    \n",
    "    def factory(params):\n",
    "        \"\"\"\n",
    "        定义优化的目标函数\n",
    "        \"\"\"\n",
    "        fit_params = {\n",
    "            'max_depth':int(params['max_depth']),\n",
    "            'n_estimators':int(params['n_estimators']),\n",
    "            'max_leaf_nodes': int(params['max_leaf_nodes'])\n",
    "            }\n",
    "        # 选择模型\n",
    "        model = RandomForestClassifier(**fit_params)\n",
    "        model.fit(train_x, train_y)\n",
    "        # 最小化测试集（- f1score）为目标\n",
    "        train_metric = model_metrics(model, train_x, train_y)\n",
    "        test_metric = model_metrics(model, test_x, test_y)\n",
    "        loss = - test_metric\n",
    "        return {\"loss\": loss, \"status\":STATUS_OK}\n",
    "\n",
    "    # 参数空间\n",
    "    space = {\n",
    "        'max_depth': hp.quniform('max_depth', 1, 20, 1),\n",
    "        'n_estimators': hp.quniform('n_estimators', 2, 50, 1), \n",
    "        'max_leaf_nodes': hp.quniform('max_leaf_nodes', 2, 100, 1)\n",
    "            }\n",
    "    # bayes优化搜索参数\n",
    "    best_params = fmin(factory, space, algo=partial(anneal.suggest,), max_evals=eval_iters, trials=Trials(),return_argmin=True)\n",
    "    # 参数转为整型\n",
    "    best_params[\"max_depth\"] = int(best_params[\"max_depth\"])\n",
    "    best_params[\"max_leaf_nodes\"] = int(best_params[\"max_leaf_nodes\"])\n",
    "    best_params[\"n_estimators\"] = int(best_params[\"n_estimators\"])\n",
    "    return best_params\n",
    "\n",
    "#  搜索最优参数\n",
    "best_params = bayes_fmin(train_x, test_x, train_y, test_y, 100)\n",
    "print(best_params)"
   ]
  },
  {
   "cell_type": "markdown",
   "id": "7b4f41e9",
   "metadata": {},
   "source": [
    "### https://zhuanlan.zhihu.com/p/79616011"
   ]
  },
  {
   "cell_type": "markdown",
   "id": "d91e9632",
   "metadata": {},
   "source": [
    "## 编程实现精准率和召回率"
   ]
  },
  {
   "cell_type": "code",
   "execution_count": 7,
   "id": "f0e97757",
   "metadata": {},
   "outputs": [
    {
     "name": "stderr",
     "output_type": "stream",
     "text": [
      "D:\\IDE\\Anaconda3\\lib\\site-packages\\sklearn\\linear_model\\_logistic.py:763: ConvergenceWarning: lbfgs failed to converge (status=1):\n",
      "STOP: TOTAL NO. of ITERATIONS REACHED LIMIT.\n",
      "\n",
      "Increase the number of iterations (max_iter) or scale the data as shown in:\n",
      "    https://scikit-learn.org/stable/modules/preprocessing.html\n",
      "Please also refer to the documentation for alternative solver options:\n",
      "    https://scikit-learn.org/stable/modules/linear_model.html#logistic-regression\n",
      "  n_iter_i = _check_optimize_result(\n"
     ]
    },
    {
     "data": {
      "text/plain": [
       "0.8"
      ]
     },
     "execution_count": 7,
     "metadata": {},
     "output_type": "execute_result"
    }
   ],
   "source": [
    "# 首先生成样本不均衡的数据\n",
    "import numpy as np\n",
    "from sklearn import datasets\n",
    "from sklearn.model_selection import train_test_split\n",
    "\n",
    "digits = datasets.load_digits()\n",
    "x = digits.data\n",
    "y = digits.target.copy()\n",
    "# 生成不平衡的数据\n",
    "y[digits.target==9] = 1\n",
    "y[digits.target!=9] = 0\n",
    "\n",
    "x_train, x_test, y_train, y_test = train_test_split(x, y, random_state=666)\n",
    "\n",
    "from sklearn.linear_model import LogisticRegression\n",
    "\n",
    "log_reg = LogisticRegression()\n",
    "log_reg.fit(x_train, y_train)\n",
    "log_reg.score(x_test, y_test)\n",
    "# 0.9755555555555555\n",
    "log_reg_predict = log_reg.predict(x_test)\n",
    "def TN(y_true, y_predict):\n",
    "    assert len(y_true) == len(y_predict)\n",
    "    return np.sum((y_true == 0) & (y_predict == 0))\n",
    "\n",
    "def FP(y_true, y_predict):\n",
    "    assert len(y_true) == len(y_predict)\n",
    "    return np.sum((y_true == 0) & (y_predict == 1))\n",
    "\n",
    "def FN(y_true, y_predict):\n",
    "    assert len(y_true) == len(y_predict)\n",
    "    return np.sum((y_true == 1) & (y_predict == 0))\n",
    "\n",
    "def TP(y_true, y_predict):\n",
    "    assert len(y_true) == len(y_predict)\n",
    "    return np.sum((y_true == 1) & (y_predict == 1))\n",
    "\n",
    "TN(y_test, log_reg_predict)\n",
    "# 403\n",
    "FP(y_test, log_reg_predict)\n",
    "# 2\n",
    "FN(y_test, log_reg_predict)\n",
    "# 9\n",
    "TP(y_test, log_reg_predict)\n",
    "# 36\n",
    "# 混淆矩阵的实现\n",
    "def confusion_matrix(y_true, y_predict):\n",
    "    return np.array([\n",
    "        [TN(y_test, log_reg_predict), FP(y_test, log_reg_predict)],\n",
    "        [FN(y_test, log_reg_predict), TP(y_test, log_reg_predict)],\n",
    "    ])\n",
    "confusion_matrix(y_test, log_reg_predict)\n",
    "# array([[403,   2],\n",
    "#       [  9,  36]])\n",
    "# 精准率\n",
    "def precison_score(y_true, y_predict):\n",
    "    tp = TP(y_test, log_reg_predict)\n",
    "    fp = FP(y_test, log_reg_predict)\n",
    "    try:\n",
    "        return tp/(tp+fp)\n",
    "    except:\n",
    "        return 0.0\n",
    "\n",
    "# 召回率\n",
    "def recall_score(y_true, y_predict):\n",
    "    tp = TP(y_test, log_reg_predict)\n",
    "    fn = FN(y_test, log_reg_predict)\n",
    "    try:\n",
    "        return tp/(tp+fn)\n",
    "    except:\n",
    "        return 0.0\n",
    "\n",
    "precison_score(y_test, log_reg_predict)\n",
    "# 0.9473684210526315\n",
    "recall_score(y_test, log_reg_predict)\n",
    "# 0.8"
   ]
  },
  {
   "cell_type": "code",
   "execution_count": 8,
   "id": "25b87b19",
   "metadata": {},
   "outputs": [
    {
     "data": {
      "text/plain": [
       "0.8"
      ]
     },
     "execution_count": 8,
     "metadata": {},
     "output_type": "execute_result"
    }
   ],
   "source": [
    "# sklearn中精准率和召回率的实现\n",
    "from sklearn.metrics import confusion_matrix\n",
    "from sklearn.metrics import precision_score\n",
    "from sklearn.metrics import recall_score\n",
    "\n",
    "confusion_matrix(y_test, log_reg_predict)\n",
    "# array([[403,   2], [  9,  36]], dtype=int64)\n",
    "precision_score(y_test, log_reg_predict)\n",
    "# 0.9473684210526315\n",
    "recall_score(y_test, log_reg_predict)\n",
    "# 0.8"
   ]
  },
  {
   "cell_type": "markdown",
   "id": "65cb1d85",
   "metadata": {},
   "source": [
    "## F1-score编程实现"
   ]
  },
  {
   "cell_type": "code",
   "execution_count": 9,
   "id": "1ce300e7",
   "metadata": {},
   "outputs": [
    {
     "name": "stderr",
     "output_type": "stream",
     "text": [
      "D:\\IDE\\Anaconda3\\lib\\site-packages\\sklearn\\linear_model\\_logistic.py:763: ConvergenceWarning: lbfgs failed to converge (status=1):\n",
      "STOP: TOTAL NO. of ITERATIONS REACHED LIMIT.\n",
      "\n",
      "Increase the number of iterations (max_iter) or scale the data as shown in:\n",
      "    https://scikit-learn.org/stable/modules/preprocessing.html\n",
      "Please also refer to the documentation for alternative solver options:\n",
      "    https://scikit-learn.org/stable/modules/linear_model.html#logistic-regression\n",
      "  n_iter_i = _check_optimize_result(\n"
     ]
    },
    {
     "data": {
      "text/plain": [
       "0.8674698795180723"
      ]
     },
     "execution_count": 9,
     "metadata": {},
     "output_type": "execute_result"
    }
   ],
   "source": [
    "from sklearn import datasets\n",
    "from sklearn.model_selection import train_test_split\n",
    "from sklearn.linear_model import LogisticRegression\n",
    "from sklearn.metrics import precision_score\n",
    "from sklearn.metrics import recall_score\n",
    "\n",
    "digits = datasets.load_digits()\n",
    "x = digits.data\n",
    "y = digits.target.copy()\n",
    "# 生成不平衡的数据\n",
    "y[digits.target==9] = 1\n",
    "y[digits.target!=9] = 0\n",
    "x_train, x_test, y_train, y_test = train_test_split(x, y, random_state=666)\n",
    "\n",
    "log_reg = LogisticRegression()\n",
    "log_reg.fit(x_train, y_train)\n",
    "log_reg.score(x_test, y_test)\n",
    "# 0.9755555555555555\n",
    "log_reg_predict = log_reg.predict(x_test)\n",
    "\n",
    "def f1_score(precision, recall):\n",
    "    try:\n",
    "        return 2 * precision * recall / (precision + recall)\n",
    "    except:\n",
    "        return 0.0\n",
    "\n",
    "precision_score(y_test, log_reg_predict)\n",
    "# 0.9473684210526315\n",
    "recall_score(y_test, log_reg_predict)\n",
    "# 0.8\n",
    "f1_score(precision_score(y_test, log_reg_predict), recall_score(y_test, log_reg_predict))\n",
    "# 0.8674698795180723"
   ]
  },
  {
   "cell_type": "code",
   "execution_count": 10,
   "id": "4267411d",
   "metadata": {},
   "outputs": [
    {
     "data": {
      "text/plain": [
       "0.8674698795180723"
      ]
     },
     "execution_count": 10,
     "metadata": {},
     "output_type": "execute_result"
    }
   ],
   "source": [
    "# sklearn中的实现：\n",
    "from sklearn.metrics import f1_score\n",
    "\n",
    "f1_score(y_test, log_reg_predict)\n",
    "# 0.8674698795180723"
   ]
  },
  {
   "cell_type": "code",
   "execution_count": 11,
   "id": "ceec8044",
   "metadata": {},
   "outputs": [
    {
     "data": {
      "text/plain": [
       "0.18000000000000002"
      ]
     },
     "execution_count": 11,
     "metadata": {},
     "output_type": "execute_result"
    }
   ],
   "source": [
    "# 精准率和召回率任何一个值比较低就会拉低整体分数。\n",
    "def f1_score(precision, recall):\n",
    "    try:\n",
    "        return 2 * precision * recall / (precision + recall)\n",
    "    except:\n",
    "        return 0.0 \n",
    "    \n",
    "precision = 0.5\n",
    "recall = 0.5\n",
    "f1_score(precision, recall)\n",
    "# 0.5\n",
    "precision = 0.1\n",
    "recall = 0.9\n",
    "f1_score(precision, recall)\n",
    "# 0.18000000000000002"
   ]
  },
  {
   "cell_type": "markdown",
   "id": "51b8cbab",
   "metadata": {},
   "source": [
    "### 精准率与召回率的平衡时，更改阈值进行判断"
   ]
  },
  {
   "cell_type": "code",
   "execution_count": 12,
   "id": "910b1886",
   "metadata": {},
   "outputs": [
    {
     "name": "stderr",
     "output_type": "stream",
     "text": [
      "D:\\IDE\\Anaconda3\\lib\\site-packages\\sklearn\\linear_model\\_logistic.py:763: ConvergenceWarning: lbfgs failed to converge (status=1):\n",
      "STOP: TOTAL NO. of ITERATIONS REACHED LIMIT.\n",
      "\n",
      "Increase the number of iterations (max_iter) or scale the data as shown in:\n",
      "    https://scikit-learn.org/stable/modules/preprocessing.html\n",
      "Please also refer to the documentation for alternative solver options:\n",
      "    https://scikit-learn.org/stable/modules/linear_model.html#logistic-regression\n",
      "  n_iter_i = _check_optimize_result(\n"
     ]
    },
    {
     "data": {
      "text/plain": [
       "0.8"
      ]
     },
     "execution_count": 12,
     "metadata": {},
     "output_type": "execute_result"
    }
   ],
   "source": [
    "import numpy as np\n",
    "import matplotlib.pyplot as plt\n",
    "from sklearn import datasets\n",
    "from sklearn.model_selection import train_test_split\n",
    "from sklearn.linear_model import LogisticRegression\n",
    "from sklearn.metrics import confusion_matrix\n",
    "from sklearn.metrics import precision_score\n",
    "from sklearn.metrics import recall_score\n",
    "\n",
    "digits = datasets.load_digits()\n",
    "x = digits.data\n",
    "y = digits.target.copy()\n",
    "# 生成不平衡的数据\n",
    "y[digits.target==9] = 1\n",
    "y[digits.target!=9] = 0\n",
    "x_train, x_test, y_train, y_test = train_test_split(x, y, random_state=666)\n",
    "\n",
    "log_reg = LogisticRegression()\n",
    "log_reg.fit(x_train, y_train)\n",
    "# 默认使用0作为决策边界。那如何对决策边界进行平移呢？\n",
    "y_predict = log_reg.predict(x_test)\n",
    "\n",
    "confusion_matrix(y_test, y_predict)\n",
    "# array([[403,   2],\n",
    "#       [  9,  36]], dtype=int64)\n",
    "precision_score(y_test, y_predict)\n",
    "# 0.9473684210526315\n",
    "recall_score(y_test, y_predict)\n",
    "# 0.8"
   ]
  },
  {
   "cell_type": "code",
   "execution_count": 13,
   "id": "9d373ce6",
   "metadata": {},
   "outputs": [
    {
     "data": {
      "text/plain": [
       "array([-21.39584206, -32.89855272, -16.42651309, -79.82825424,\n",
       "       -48.0293871 , -24.1797053 , -44.61934871, -24.23691841,\n",
       "        -1.1444768 , -19.00735388])"
      ]
     },
     "execution_count": 13,
     "metadata": {},
     "output_type": "execute_result"
    }
   ],
   "source": [
    "log_reg.decision_function(x_test)\n",
    "# 太多了，显示前10个\n",
    "log_reg.decision_function(x_test)[:10]"
   ]
  },
  {
   "cell_type": "code",
   "execution_count": 14,
   "id": "3cc655a6",
   "metadata": {},
   "outputs": [
    {
     "data": {
      "text/plain": [
       "19.91099655206776"
      ]
     },
     "execution_count": 14,
     "metadata": {},
     "output_type": "execute_result"
    }
   ],
   "source": [
    "decision_score =  log_reg.decision_function(x_test)\n",
    "np.min(decision_score)\n",
    "# -85.68608522646575\n",
    "np.max(decision_score)\n",
    "# 19.8895858799022"
   ]
  },
  {
   "cell_type": "code",
   "execution_count": 15,
   "id": "46a24248",
   "metadata": {},
   "outputs": [
    {
     "data": {
      "text/plain": [
       "0.5333333333333333"
      ]
     },
     "execution_count": 15,
     "metadata": {},
     "output_type": "execute_result"
    }
   ],
   "source": [
    "y_predict2 = np.array(decision_score >= 5, dtype='int')\n",
    "confusion_matrix(y_test, y_predict2)\n",
    "# array([[404,   1],\n",
    "#        [ 21,  24]], dtype=int64)\n",
    "precision_score(y_test, y_predict2)\n",
    "# 0.96\n",
    "recall_score(y_test, y_predict2)\n",
    "# 0.5333333333333333"
   ]
  },
  {
   "cell_type": "code",
   "execution_count": 16,
   "id": "809cda2e",
   "metadata": {},
   "outputs": [
    {
     "data": {
      "text/plain": [
       "0.8888888888888888"
      ]
     },
     "execution_count": 16,
     "metadata": {},
     "output_type": "execute_result"
    }
   ],
   "source": [
    "y_predict3 = np.array(decision_score >= -5, dtype='int')\n",
    "confusion_matrix(y_test, y_predict3)\n",
    "# array([[390,  15],\n",
    "#        [  5,  40]], dtype=int64)\n",
    "precision_score(y_test, y_predict3)\n",
    "# 0.7272727272727273\n",
    "recall_score(y_test, y_predict3)\n",
    "# 0.8888888888888888"
   ]
  },
  {
   "cell_type": "markdown",
   "id": "e6cab290",
   "metadata": {},
   "source": [
    "### 精准率与召回率曲线（P-R曲线）"
   ]
  },
  {
   "cell_type": "code",
   "execution_count": 2,
   "id": "21554ecc",
   "metadata": {},
   "outputs": [
    {
     "name": "stderr",
     "output_type": "stream",
     "text": [
      "D:\\IDE\\Anaconda3\\lib\\site-packages\\sklearn\\linear_model\\_logistic.py:763: ConvergenceWarning: lbfgs failed to converge (status=1):\n",
      "STOP: TOTAL NO. of ITERATIONS REACHED LIMIT.\n",
      "\n",
      "Increase the number of iterations (max_iter) or scale the data as shown in:\n",
      "    https://scikit-learn.org/stable/modules/preprocessing.html\n",
      "Please also refer to the documentation for alternative solver options:\n",
      "    https://scikit-learn.org/stable/modules/linear_model.html#logistic-regression\n",
      "  n_iter_i = _check_optimize_result(\n"
     ]
    },
    {
     "data": {
      "image/png": "[encoded data removed]",
      "text/plain": [
       "<Figure size 432x288 with 1 Axes>"
      ]
     },
     "metadata": {
      "needs_background": "light"
     },
     "output_type": "display_data"
    }
   ],
   "source": [
    "import numpy as np\n",
    "import matplotlib.pyplot as plt\n",
    "from sklearn import datasets\n",
    "from sklearn.model_selection import train_test_split\n",
    "from sklearn.linear_model import LogisticRegression\n",
    "\n",
    "digits = datasets.load_digits()\n",
    "x = digits.data\n",
    "y = digits.target.copy()\n",
    "# 生成不平衡的数据\n",
    "y[digits.target==9] = 1\n",
    "y[digits.target!=9] = 0\n",
    "x_train, x_test, y_train, y_test = train_test_split(x, y, random_state=666)\n",
    "log_reg = LogisticRegression()\n",
    "log_reg.fit(x_train, y_train)\n",
    "\n",
    "decision_scores = log_reg.decision_function(x_test)\n",
    "from sklearn.metrics import precision_score\n",
    "from sklearn.metrics import recall_score\n",
    "\n",
    "precisions = []\n",
    "recalls = []\n",
    "thresholds = np.arange(np.min(decision_scores), np.max(decision_scores))\n",
    "\n",
    "for threshold in thresholds:\n",
    "    y_predict = np.array(decision_scores >= threshold, dtype='int')\n",
    "    precisions.append(precision_score(y_test, y_predict))\n",
    "    recalls.append(recall_score(y_test, y_predict)) \n",
    "    \n",
    "plt.plot(thresholds, precisions, label='precision')\n",
    "plt.plot(thresholds, recalls, label='recall')\n",
    "plt.legend()\n",
    "plt.show()"
   ]
  },
  {
   "cell_type": "code",
   "execution_count": 3,
   "id": "0273eb52",
   "metadata": {},
   "outputs": [
    {
     "data": {
      "image/png": "[encoded data removed]",
      "text/plain": [
       "<Figure size 432x288 with 1 Axes>"
      ]
     },
     "metadata": {
      "needs_background": "light"
     },
     "output_type": "display_data"
    }
   ],
   "source": [
    "plt.plot(precisions, recalls)\n",
    "plt.show()"
   ]
  },
  {
   "cell_type": "markdown",
   "id": "00def63e",
   "metadata": {},
   "source": [
    "通过图中的趋势很显然随着精准率的提高，召回率在不断的下降。这也再一次印证了精准流程和召回率是互相制约互相平衡的，而在图中急剧下降的点大概就是精准率和召回率平衡的最佳点。"
   ]
  },
  {
   "cell_type": "code",
   "execution_count": 4,
   "id": "e81e13ac",
   "metadata": {},
   "outputs": [
    {
     "data": {
      "text/plain": [
       "(150,)"
      ]
     },
     "execution_count": 4,
     "metadata": {},
     "output_type": "execute_result"
    }
   ],
   "source": [
    "# sklearn中实现P-R曲线\n",
    "from sklearn.metrics import precision_recall_curve\n",
    "\n",
    "precisions, recalls, thresholds = precision_recall_curve(y_test, decision_scores)\n",
    "precisions.shape\n",
    "# (145,)\n",
    "recalls.shape\n",
    "# (145,)\n",
    "thresholds.shape\n",
    "# (144,)"
   ]
  },
  {
   "cell_type": "markdown",
   "id": "a32c238a",
   "metadata": {},
   "source": [
    "通过上面程序输出结果可以发现返回的精准率和召回率与阈值的长度不一致，这是因为在sklearn中会自动取合适的阈值范围内计算准确率和召回率，而且默认的最大值为1和最小值为0，没有对应的threshold，因此这就是为什么thresholds比precisions和recalls长度少1，因此在绘图的时候需要注意。\n",
    "\n",
    "通过下面这两条曲线对比自己编程实现的精准率和召回率曲线大致相同，有着略微的差异，这是因为sklearn中对阈值进行了处理,会自动选取最重要的那部分。"
   ]
  },
  {
   "cell_type": "code",
   "execution_count": 5,
   "id": "9f0ce753",
   "metadata": {},
   "outputs": [
    {
     "data": {
      "image/png": "[encoded data removed]",
      "text/plain": [
       "<Figure size 432x288 with 1 Axes>"
      ]
     },
     "metadata": {
      "needs_background": "light"
     },
     "output_type": "display_data"
    }
   ],
   "source": [
    "plt.plot(thresholds, precisions[:-1])\n",
    "plt.plot(thresholds, recalls[:-1])\n",
    "plt.show()"
   ]
  },
  {
   "cell_type": "code",
   "execution_count": 6,
   "id": "6f523f21",
   "metadata": {},
   "outputs": [
    {
     "data": {
      "image/png": "[encoded data removed]",
      "text/plain": [
       "<Figure size 432x288 with 1 Axes>"
      ]
     },
     "metadata": {
      "needs_background": "light"
     },
     "output_type": "display_data"
    }
   ],
   "source": [
    "plt.plot(precisions, recalls)\n",
    "plt.show()"
   ]
  },
  {
   "cell_type": "markdown",
   "id": "86ef493c",
   "metadata": {},
   "source": [
    "### ROC曲线编程实现"
   ]
  },
  {
   "cell_type": "code",
   "execution_count": 7,
   "id": "2d36735b",
   "metadata": {},
   "outputs": [
    {
     "name": "stderr",
     "output_type": "stream",
     "text": [
      "D:\\IDE\\Anaconda3\\lib\\site-packages\\sklearn\\linear_model\\_logistic.py:763: ConvergenceWarning: lbfgs failed to converge (status=1):\n",
      "STOP: TOTAL NO. of ITERATIONS REACHED LIMIT.\n",
      "\n",
      "Increase the number of iterations (max_iter) or scale the data as shown in:\n",
      "    https://scikit-learn.org/stable/modules/preprocessing.html\n",
      "Please also refer to the documentation for alternative solver options:\n",
      "    https://scikit-learn.org/stable/modules/linear_model.html#logistic-regression\n",
      "  n_iter_i = _check_optimize_result(\n"
     ]
    },
    {
     "data": {
      "image/png": "[encoded data removed]",
      "text/plain": [
       "<Figure size 432x288 with 1 Axes>"
      ]
     },
     "metadata": {
      "needs_background": "light"
     },
     "output_type": "display_data"
    }
   ],
   "source": [
    "import numpy as np\n",
    "from sklearn import datasets\n",
    "from sklearn.model_selection import train_test_split\n",
    "import matplotlib.pyplot as plt\n",
    "\n",
    "def TN(y_true, y_predict):\n",
    "    assert len(y_true) == len(y_predict)\n",
    "    return np.sum((y_true == 0) & (y_predict == 0))\n",
    "\n",
    "def FP(y_true, y_predict):\n",
    "    assert len(y_true) == len(y_predict)\n",
    "    return np.sum((y_true == 0) & (y_predict == 1))\n",
    "\n",
    "def FN(y_true, y_predict):\n",
    "    assert len(y_true) == len(y_predict)\n",
    "    return np.sum((y_true == 1) & (y_predict == 0))\n",
    "\n",
    "def TP(y_true, y_predict):\n",
    "    assert len(y_true) == len(y_predict)\n",
    "    return np.sum((y_true == 1) & (y_predict == 1))\n",
    "\n",
    "def TPR(y_true, y_predict):\n",
    "    tp = TP(y_true, y_predict)\n",
    "    fn = FN(y_true, y_predict)\n",
    "    try:\n",
    "        return tp / (tp + fn)\n",
    "    except:\n",
    "        return 0.0\n",
    "    \n",
    "def FPR(y_true, y_predict):\n",
    "    fp = FP(y_true, y_predict)\n",
    "    tn = TN(y_true, y_predict)\n",
    "    try:\n",
    "        return fp / (fp + tn)\n",
    "    except:\n",
    "        return 0.0\n",
    "import numpy as np\n",
    "from sklearn import datasets\n",
    "from sklearn.model_selection import train_test_split\n",
    "\n",
    "digits = datasets.load_digits()\n",
    "x = digits.data\n",
    "y = digits.target.copy()\n",
    "# 生成不平衡的数据\n",
    "y[digits.target==9] = 1\n",
    "y[digits.target!=9] = 0\n",
    "\n",
    "x_train, x_test, y_train, y_test = train_test_split(x, y, random_state=666)\n",
    "\n",
    "from sklearn.linear_model import LogisticRegression\n",
    "\n",
    "log_reg = LogisticRegression()\n",
    "log_reg.fit(x_train, y_train)\n",
    "log_reg.score(x_test, y_test)\n",
    "# 0.9755555555555555\n",
    "log_reg_predict = log_reg.predict(x_test)\n",
    "\n",
    "decision_scores = log_reg.decision_function(x_test)\n",
    "\n",
    "fprs = []\n",
    "tprs = []\n",
    "thresholds = np.arange(np.min(decision_scores), np.max(decision_scores))\n",
    "\n",
    "for threshold in thresholds:\n",
    "    y_predict = np.array(decision_scores >= threshold, dtype='int')\n",
    "    fprs.append(FPR(y_test, y_predict))\n",
    "    tprs.append(TPR(y_test, y_predict))\n",
    "    \n",
    "plt.plot(fprs, tprs)\n",
    "plt.show()"
   ]
  },
  {
   "cell_type": "code",
   "execution_count": 8,
   "id": "d6b6fd77",
   "metadata": {},
   "outputs": [
    {
     "data": {
      "image/png": "[encoded data removed]",
      "text/plain": [
       "<Figure size 432x288 with 1 Axes>"
      ]
     },
     "metadata": {
      "needs_background": "light"
     },
     "output_type": "display_data"
    }
   ],
   "source": [
    "# sklearn中ROC曲线的实现\n",
    "from sklearn.metrics import roc_curve\n",
    "\n",
    "fprs, tprs, thresholds = roc_curve(y_test, decision_scores)\n",
    "plt.plot(fprs, tprs)\n",
    "plt.show()"
   ]
  },
  {
   "cell_type": "code",
   "execution_count": 9,
   "id": "623b77a3",
   "metadata": {},
   "outputs": [
    {
     "data": {
      "text/plain": [
       "0.9823868312757201"
      ]
     },
     "execution_count": 9,
     "metadata": {},
     "output_type": "execute_result"
    }
   ],
   "source": [
    "from sklearn.metrics import roc_auc_score\n",
    "# area under curve\n",
    "roc_auc_score(y_test, decision_scores)\n",
    "# 0.9830452674897119"
   ]
  },
  {
   "cell_type": "markdown",
   "id": "73ed0c69",
   "metadata": {},
   "source": [
    "### 多分类问题中的混淆矩阵"
   ]
  },
  {
   "cell_type": "code",
   "execution_count": 10,
   "id": "0a9f8ded",
   "metadata": {},
   "outputs": [
    {
     "name": "stderr",
     "output_type": "stream",
     "text": [
      "D:\\IDE\\Anaconda3\\lib\\site-packages\\sklearn\\linear_model\\_logistic.py:763: ConvergenceWarning: lbfgs failed to converge (status=1):\n",
      "STOP: TOTAL NO. of ITERATIONS REACHED LIMIT.\n",
      "\n",
      "Increase the number of iterations (max_iter) or scale the data as shown in:\n",
      "    https://scikit-learn.org/stable/modules/preprocessing.html\n",
      "Please also refer to the documentation for alternative solver options:\n",
      "    https://scikit-learn.org/stable/modules/linear_model.html#logistic-regression\n",
      "  n_iter_i = _check_optimize_result(\n"
     ]
    },
    {
     "data": {
      "text/plain": [
       "array([[148,   0,   1,   0,   0,   0,   0,   0,   0,   0],\n",
       "       [  0, 125,   2,   0,   0,   0,   0,   3,   2,  11],\n",
       "       [  0,   1, 134,   0,   0,   0,   0,   0,   1,   0],\n",
       "       [  0,   0,   1, 138,   0,   5,   0,   1,   4,   0],\n",
       "       [  2,   4,   0,   0, 138,   0,   1,   3,   0,   2],\n",
       "       [  1,   2,   1,   0,   0, 146,   1,   0,   0,   1],\n",
       "       [  0,   2,   0,   0,   0,   1, 132,   0,   1,   0],\n",
       "       [  0,   0,   0,   0,   0,   0,   0, 135,   0,   1],\n",
       "       [  0,   8,   2,   1,   3,   3,   0,   1, 120,   2],\n",
       "       [  0,   1,   0,   6,   0,   1,   0,   1,   1, 137]], dtype=int64)"
      ]
     },
     "execution_count": 10,
     "metadata": {},
     "output_type": "execute_result"
    }
   ],
   "source": [
    "import numpy as np\n",
    "from sklearn import datasets\n",
    "from sklearn.model_selection import train_test_split\n",
    "\n",
    "digits = datasets.load_digits()\n",
    "x = digits.data\n",
    "y = digits.target\n",
    "\n",
    "x_train, x_test, y_train, y_test = train_test_split(x, y, test_size=0.8, random_state=666)\n",
    "\n",
    "from sklearn.linear_model import LogisticRegression\n",
    "\n",
    "log_reg = LogisticRegression()\n",
    "log_reg.fit(x_train, y_train)\n",
    "log_reg.score(x_test, y_test)\n",
    "\n",
    "y_predict = log_reg.predict(x_test)\n",
    "\n",
    "from sklearn.metrics import precision_score\n",
    "precision_score(y_test, y_predict, average='micro')\n",
    "# 可以尝试一下precision_score(y_test, y_predict)，默认情况下是不支持多分类准确率预测的，但是可以通过传入超参数解决\n",
    "# 0.93115438108484\n",
    "from sklearn.metrics import confusion_matrix\n",
    "confusion_matrix(y_test, y_predict)"
   ]
  },
  {
   "cell_type": "code",
   "execution_count": 11,
   "id": "4b4275ac",
   "metadata": {},
   "outputs": [
    {
     "data": {
      "image/png": "[encoded data removed]",
      "text/plain": [
       "<Figure size 288x288 with 1 Axes>"
      ]
     },
     "metadata": {
      "needs_background": "light"
     },
     "output_type": "display_data"
    }
   ],
   "source": [
    "# 这样看上去并不直观，绘制一下混淆矩阵。\n",
    "import matplotlib.pyplot as plt\n",
    "cfm = confusion_matrix(y_test, y_predict)\n",
    "plt.matshow(cfm, cmap=plt.cm.gray)\n",
    "plt.show()\n",
    "# 图中白色方框越亮说明预测正确率越高"
   ]
  },
  {
   "cell_type": "code",
   "execution_count": 12,
   "id": "7233cbe3",
   "metadata": {},
   "outputs": [
    {
     "data": {
      "text/plain": [
       "array([[0.        , 0.        , 0.00735294, 0.        , 0.        ,\n",
       "        0.        , 0.        , 0.        , 0.        , 0.        ],\n",
       "       [0.        , 0.        , 0.01470588, 0.        , 0.        ,\n",
       "        0.        , 0.        , 0.02205882, 0.01428571, 0.07482993],\n",
       "       [0.        , 0.00699301, 0.        , 0.        , 0.        ,\n",
       "        0.        , 0.        , 0.        , 0.00714286, 0.        ],\n",
       "       [0.        , 0.        , 0.00735294, 0.        , 0.        ,\n",
       "        0.03289474, 0.        , 0.00735294, 0.02857143, 0.        ],\n",
       "       [0.01342282, 0.02797203, 0.        , 0.        , 0.        ,\n",
       "        0.        , 0.00735294, 0.02205882, 0.        , 0.01360544],\n",
       "       [0.00671141, 0.01398601, 0.00735294, 0.        , 0.        ,\n",
       "        0.        , 0.00735294, 0.        , 0.        , 0.00680272],\n",
       "       [0.        , 0.01398601, 0.        , 0.        , 0.        ,\n",
       "        0.00657895, 0.        , 0.        , 0.00714286, 0.        ],\n",
       "       [0.        , 0.        , 0.        , 0.        , 0.        ,\n",
       "        0.        , 0.        , 0.        , 0.        , 0.00680272],\n",
       "       [0.        , 0.05594406, 0.01470588, 0.00671141, 0.02      ,\n",
       "        0.01973684, 0.        , 0.00735294, 0.        , 0.01360544],\n",
       "       [0.        , 0.00699301, 0.        , 0.04026846, 0.        ,\n",
       "        0.00657895, 0.        , 0.00735294, 0.00714286, 0.        ]])"
      ]
     },
     "execution_count": 12,
     "metadata": {},
     "output_type": "execute_result"
    }
   ],
   "source": [
    "# 只显示正确率对于混淆矩阵是没有意义的，想看看预测错误部分。\n",
    "\n",
    "# 计算每一行有多少个样本\n",
    "row_sums = np.sum(cfm, axis=1)\n",
    "err_matrix = cfm / row_sums\n",
    "# 不关注预测正确的那部分\n",
    "np.fill_diagonal(err_matrix, 0)\n",
    "err_matrix"
   ]
  },
  {
   "cell_type": "code",
   "execution_count": 13,
   "id": "50aa96db",
   "metadata": {},
   "outputs": [
    {
     "data": {
      "image/png": "[encoded data removed]",
      "text/plain": [
       "<Figure size 288x288 with 1 Axes>"
      ]
     },
     "metadata": {
      "needs_background": "light"
     },
     "output_type": "display_data"
    }
   ],
   "source": [
    "# 上述输出就是预测错误部分，绘制一下矩阵\n",
    "plt.matshow(err_matrix, cmap=plt.cm.gray)\n",
    "plt.show()\n",
    "# 图中整体来说就是越亮的部分就是预测错误越多的地方"
   ]
  },
  {
   "cell_type": "markdown",
   "id": "ba963f78",
   "metadata": {},
   "source": [
    "---\n",
    "## k折交叉验证\n",
    "\n",
    "https://ljalphabeta.gitbooks.io/python-/content/kfold.html\n",
    "\n",
    "https://blog.csdn.net/cauchy7203/article/details/107162197\n",
    "\n",
    "GridSearchCV即网格搜索的交叉验证法，这是最为常用的方法之一。在sklearn的官方文档中给出了该方法详细的输入参数和说明，而通常我们只需要考虑以下几个参数即可：\n",
    "\n",
    "|参数名称\t|说明|\n",
    "|-----------|:-------------:|\n",
    "|estimator\t|被调参的模型，即上一教程中提到的各类模型的class，比如tree,RandomForestRegressor等具体模型，以对象实例的形式传递。|\n",
    "|param_grid\t|被调参数的grid，以字典形式传递。|\n",
    "|scoring\t|模型评价指标，给出具体指标的名称字符串即可，如'accuracy','neg_mean_squared_error'等。|\n",
    "|cv\t      |这个变量比较复杂。一般来说我们直接取整数即可，也就是k-fold中的k即可。特别地当k等于样本个数时，它就是留一法。|"
   ]
  },
  {
   "cell_type": "code",
   "execution_count": 5,
   "id": "cac21601",
   "metadata": {},
   "outputs": [
    {
     "data": {
      "text/plain": [
       "['mean_fit_time',\n",
       " 'mean_score_time',\n",
       " 'mean_test_score',\n",
       " 'param_C',\n",
       " 'param_kernel',\n",
       " 'params',\n",
       " 'rank_test_score',\n",
       " 'split0_test_score',\n",
       " 'split1_test_score',\n",
       " 'split2_test_score',\n",
       " 'split3_test_score',\n",
       " 'split4_test_score',\n",
       " 'std_fit_time',\n",
       " 'std_score_time',\n",
       " 'std_test_score']"
      ]
     },
     "execution_count": 5,
     "metadata": {},
     "output_type": "execute_result"
    }
   ],
   "source": [
    "from sklearn import svm, datasets\n",
    "from sklearn.model_selection import GridSearchCV\n",
    "iris = datasets.load_iris()\n",
    "parameters = {'kernel':('linear', 'rbf'), 'C':[1, 10]}\n",
    "svc = svm.SVC()\n",
    "clf = GridSearchCV(svc, parameters)\n",
    "clf.fit(iris.data, iris.target)\n",
    "# GridSearchCV(estimator=SVC(), param_grid={'C': [1, 10], 'kernel': ('linear', 'rbf')})\n",
    "sorted(clf.cv_results_.keys())"
   ]
  },
  {
   "cell_type": "markdown",
   "id": "4b1b5a34",
   "metadata": {},
   "source": [
    "### 如何使用交叉验证进行调参的实际例子"
   ]
  },
  {
   "cell_type": "code",
   "execution_count": 15,
   "id": "cbaf1ae4",
   "metadata": {},
   "outputs": [
    {
     "name": "stdout",
     "output_type": "stream",
     "text": [
      "Best K= 3\n",
      "Best P= 2\n",
      "Best score= 0.9860917941585535\n"
     ]
    }
   ],
   "source": [
    "# 第一种情况：只使用训练集测试集测试：\n",
    "import numpy as np\n",
    "from sklearn import datasets\n",
    "from sklearn.model_selection import train_test_split\n",
    "from sklearn.neighbors import KNeighborsClassifier\n",
    "\n",
    "digits = datasets.load_digits()\n",
    "x = digits.data\n",
    "y = digits.target\n",
    "\n",
    "x_train, x_test, y_train, y_test = train_test_split(x, y, test_size=0.4, random_state=666)\n",
    "\n",
    "best_score, best_p, best_k = 0, 0, 0 \n",
    "for k in range(2, 11):\n",
    "    for  p in range(1, 6):\n",
    "        knn_clf = KNeighborsClassifier(weights=\"distance\", n_neighbors=k, p=p)\n",
    "        knn_clf.fit(x_train, y_train)\n",
    "        score = knn_clf.score(x_test, y_test)\n",
    "        if score > best_score:\n",
    "            best_score, best_p, best_k = score, p, k\n",
    "\n",
    "print(\"Best K=\", best_k)\n",
    "print(\"Best P=\", best_p)\n",
    "print(\"Best score=\", best_score)"
   ]
  },
  {
   "cell_type": "code",
   "execution_count": 16,
   "id": "bf8e7c7b",
   "metadata": {},
   "outputs": [
    {
     "data": {
      "text/plain": [
       "array([0.99537037, 0.98148148, 0.97685185, 0.97674419, 0.97209302])"
      ]
     },
     "execution_count": 16,
     "metadata": {},
     "output_type": "execute_result"
    }
   ],
   "source": [
    "# 第二种情况\n",
    "from sklearn.model_selection import cross_val_score\n",
    "\n",
    "knn_clf = KNeighborsClassifier()\n",
    "cross_val_score(knn_clf, x_train, y_train)\n",
    "# array([0.98895028, 0.97777778, 0.96629213])"
   ]
  },
  {
   "cell_type": "code",
   "execution_count": 18,
   "id": "d9163ff5",
   "metadata": {},
   "outputs": [
    {
     "name": "stdout",
     "output_type": "stream",
     "text": [
      "Best K= 2\n",
      "Best P= 2\n",
      "Best score= 0.9851507321274763\n"
     ]
    }
   ],
   "source": [
    "best_score, best_p, best_k = 0, 0, 0 \n",
    "for k in range(2, 11):\n",
    "    for  p in range(1, 6):\n",
    "        knn_clf = KNeighborsClassifier(weights=\"distance\", n_neighbors=k, p=p)\n",
    "        scores = cross_val_score(knn_clf, x_train, y_train)\n",
    "        score = np.mean(scores)\n",
    "        if score > best_score:\n",
    "            best_score, best_p, best_k = score, p, k\n",
    "\n",
    "print(\"Best K=\", best_k)\n",
    "print(\"Best P=\", best_p)\n",
    "print(\"Best score=\", best_score)"
   ]
  },
  {
   "cell_type": "markdown",
   "id": "97dc03b8",
   "metadata": {},
   "source": [
    "对比第一种情况，我们发现得到的最优超参数是不一样的，虽然score会稍微低一些，但是一般第二种情况更加可信。但是这个score只是说明这组参数最优，并不是指的是模型对于测试集的准确率，因此接下来看一下准确率。"
   ]
  },
  {
   "cell_type": "code",
   "execution_count": 19,
   "id": "77a38156",
   "metadata": {},
   "outputs": [
    {
     "data": {
      "text/plain": [
       "0.980528511821975"
      ]
     },
     "execution_count": 19,
     "metadata": {},
     "output_type": "execute_result"
    }
   ],
   "source": [
    "best_knn_clf = KNeighborsClassifier(weights='distance', n_neighbors=2, p=2)\n",
    "best_knn_clf.fit(x_train, y_train)\n",
    "best_knn_clf.score(x_test, y_test)"
   ]
  },
  {
   "cell_type": "code",
   "execution_count": 21,
   "id": "36d4ace1",
   "metadata": {},
   "outputs": [
    {
     "data": {
      "text/plain": [
       "array([0.98055556, 0.98050139, 0.96100279])"
      ]
     },
     "execution_count": 21,
     "metadata": {},
     "output_type": "execute_result"
    }
   ],
   "source": [
    "# 要修改交叉验证默认的五份，就再传入一个参数。同样地，下面的网格搜索中的cv也是可以调整的。\n",
    "cross_val_score(knn_clf, x_train, y_train, cv=3)"
   ]
  },
  {
   "cell_type": "markdown",
   "id": "ca5544f6",
   "metadata": {},
   "source": [
    "### 网格搜索中的交叉验证"
   ]
  },
  {
   "cell_type": "code",
   "execution_count": 22,
   "id": "be1af912",
   "metadata": {},
   "outputs": [
    {
     "name": "stdout",
     "output_type": "stream",
     "text": [
      "Fitting 5 folds for each of 45 candidates, totalling 225 fits\n"
     ]
    },
    {
     "data": {
      "text/plain": [
       "GridSearchCV(estimator=KNeighborsClassifier(),\n",
       "             param_grid=[{'n_neighbors': [2, 3, 4, 5, 6, 7, 8, 9, 10],\n",
       "                          'p': [1, 2, 3, 4, 5], 'weights': ['distance']}],\n",
       "             verbose=1)"
      ]
     },
     "execution_count": 22,
     "metadata": {},
     "output_type": "execute_result"
    }
   ],
   "source": [
    "from sklearn.model_selection import GridSearchCV\n",
    "from sklearn.neighbors import KNeighborsClassifier\n",
    "\n",
    "param_grid = [\n",
    "    {\n",
    "        'weights':['distance'],\n",
    "         'n_neighbors':[i for i in range(2, 11)],\n",
    "        'p':[i for i in range(1, 6)]\n",
    "    }\n",
    "]\n",
    "knn_clf = KNeighborsClassifier()\n",
    "grid_search = GridSearchCV(knn_clf, param_grid, verbose=1)\n",
    "grid_search.fit(x_train, y_train)"
   ]
  },
  {
   "cell_type": "code",
   "execution_count": 23,
   "id": "eaf59915",
   "metadata": {},
   "outputs": [
    {
     "data": {
      "text/plain": [
       "0.980528511821975"
      ]
     },
     "execution_count": 23,
     "metadata": {},
     "output_type": "execute_result"
    }
   ],
   "source": [
    "grid_search.best_score_\n",
    "# 0.9823747680890538\n",
    "grid_search.best_params_\n",
    "# {'n_neighbors': 2, 'p': 2, 'weights': 'distance'}\n",
    "best_knn_clf = grid_search.best_estimator_\n",
    "best_knn_clf.score(x_test, y_test)\n",
    "# 0.980528511821975\n",
    "\n",
    "# 这跟上面使用交叉验证的到结果一致。"
   ]
  },
  {
   "cell_type": "code",
   "execution_count": null,
   "id": "41ad7012",
   "metadata": {},
   "outputs": [],
   "source": []
  },
  {
   "cell_type": "code",
   "execution_count": null,
   "id": "ae9bef57",
   "metadata": {},
   "outputs": [],
   "source": []
  }
 ],
 "metadata": {
  "kernelspec": {
   "display_name": "Python 3 (ipykernel)",
   "language": "python",
   "name": "python3"
  },
  "language_info": {
   "codemirror_mode": {
    "name": "ipython",
    "version": 3
   },
   "file_extension": ".py",
   "mimetype": "text/x-python",
   "name": "python",
   "nbconvert_exporter": "python",
   "pygments_lexer": "ipython3",
   "version": "3.9.7"
  }
 },
 "nbformat": 4,
 "nbformat_minor": 5
}
